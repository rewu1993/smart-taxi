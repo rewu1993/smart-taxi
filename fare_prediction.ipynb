{
 "cells": [
  {
   "cell_type": "code",
   "execution_count": 1,
   "metadata": {},
   "outputs": [],
   "source": [
    "import pandas as pd \n",
    "import numpy as np\n",
    "from sklearn.ensemble import RandomForestClassifier\n",
    "from sklearn.model_selection import train_test_split\n",
    "from sklearn.metrics import accuracy_score\n",
    "import pickle\n",
    "from joblib import dump, load"
   ]
  },
  {
   "cell_type": "code",
   "execution_count": 2,
   "metadata": {},
   "outputs": [],
   "source": [
    "data_path = './result/weater_taxi_jun.csv'\n",
    "\n",
    "data_base_path = './result/'\n",
    "od_path = data_base_path+'od_june.npy'\n",
    "pu_count_path = data_base_path+'pu_count_june.csv'"
   ]
  },
  {
   "cell_type": "code",
   "execution_count": 3,
   "metadata": {},
   "outputs": [],
   "source": [
    "df = pd.read_csv(data_path)\n",
    "pu_count_df = pd.read_csv(pu_count_path)"
   ]
  },
  {
   "cell_type": "markdown",
   "metadata": {},
   "source": [
    "# Data Distribution \n",
    "The data is not clean, lets clean it before running any models \n",
    "- Remove outliers \n",
    "- Using histogram to classify data"
   ]
  },
  {
   "cell_type": "code",
   "execution_count": 4,
   "metadata": {},
   "outputs": [
    {
     "data": {
      "text/plain": [
       "(5331377, 16)"
      ]
     },
     "execution_count": 4,
     "metadata": {},
     "output_type": "execute_result"
    }
   ],
   "source": [
    "# Data preparation, remove outliers \n",
    "df = df[df['trip_time']>5]\n",
    "df = df[df['rate']<5]\n",
    "df = df[df['total_amount']<200]\n",
    "df['rate'] = abs(df['rate'])\n",
    "df['total_amount'] = abs(df['total_amount'])\n",
    "\n",
    "pu_cond = (df['PULocationID']!=263) &(df['PULocationID']!=264) &(df['PULocationID']!=265)\n",
    "do_cond = (df['DOLocationID']!=263) &(df['DOLocationID']!=264) &(df['DOLocationID']!=265)\n",
    "df = df[pu_cond & do_cond]\n",
    "df.shape"
   ]
  },
  {
   "cell_type": "code",
   "execution_count": 5,
   "metadata": {},
   "outputs": [],
   "source": [
    "boxplot = df.boxplot(column=['rate'])"
   ]
  },
  {
   "cell_type": "code",
   "execution_count": 6,
   "metadata": {},
   "outputs": [
    {
     "data": {
      "text/plain": [
       "array([[<matplotlib.axes._subplots.AxesSubplot object at 0x7f37b9a146d8>]],\n",
       "      dtype=object)"
      ]
     },
     "execution_count": 6,
     "metadata": {},
     "output_type": "execute_result"
    },
    {
     "data": {
      "image/png": "[encoded data removed]",
      "text/plain": [
       "<Figure size 432x288 with 1 Axes>"
      ]
     },
     "metadata": {
      "needs_background": "light"
     },
     "output_type": "display_data"
    }
   ],
   "source": [
    " df.hist(column=['total_amount'],bins=100)"
   ]
  },
  {
   "cell_type": "markdown",
   "metadata": {},
   "source": [
    "## Fare Vs. Location\n",
    "\n",
    "Lets see the spatial distribution of fare"
   ]
  },
  {
   "cell_type": "code",
   "execution_count": 7,
   "metadata": {},
   "outputs": [],
   "source": [
    "loc_ids = set(df['PULocationID'])"
   ]
  },
  {
   "cell_type": "code",
   "execution_count": 8,
   "metadata": {},
   "outputs": [],
   "source": [
    "ids = []\n",
    "ntrips = []\n",
    "ave_fares = []\n",
    "ave_rates = []\n",
    "for loc_id in loc_ids:\n",
    "    sub_df = df[df['PULocationID']==loc_id]\n",
    "    total_amounts = list(sub_df['total_amount'])\n",
    "    total_rate = list(sub_df['rate'])\n",
    "    ntrip= len(total_amounts)\n",
    "    ave_fare = sum(total_amounts)/ntrip\n",
    "    ave_rate = sum(total_rate)/ntrip\n",
    "    \n",
    "    ids.append(loc_id)\n",
    "    ntrips.append(ntrip)\n",
    "    ave_fares.append(ave_fare)\n",
    "    ave_rates.append(ave_rate)\n",
    "\n",
    "df_dict ={\n",
    "        'id':ids,\n",
    "        'ntrips':ntrips,\n",
    "        'ave_fare':ave_fares,\n",
    "        'ave_rates': ave_rates\n",
    "    }\n",
    "df_fare_loc = pd.DataFrame.from_dict(df_dict)"
   ]
  },
  {
   "cell_type": "code",
   "execution_count": 9,
   "metadata": {},
   "outputs": [],
   "source": [
    "# remove small size samples \n",
    "df_fare_loc = df_fare_loc[df_fare_loc['ntrips']>300]"
   ]
  },
  {
   "cell_type": "code",
   "execution_count": 10,
   "metadata": {},
   "outputs": [],
   "source": [
    "# merge with count df\n",
    "df_fare_loc = pd.merge(df_fare_loc, pu_count_df, on='id', how='inner')"
   ]
  },
  {
   "cell_type": "code",
   "execution_count": 11,
   "metadata": {},
   "outputs": [
    {
     "data": {
      "text/html": [
       "<div>\n",
       "<style scoped>\n",
       "    .dataframe tbody tr th:only-of-type {\n",
       "        vertical-align: middle;\n",
       "    }\n",
       "\n",
       "    .dataframe tbody tr th {\n",
       "        vertical-align: top;\n",
       "    }\n",
       "\n",
       "    .dataframe thead th {\n",
       "        text-align: right;\n",
       "    }\n",
       "</style>\n",
       "<table border=\"1\" class=\"dataframe\">\n",
       "  <thead>\n",
       "    <tr style=\"text-align: right;\">\n",
       "      <th></th>\n",
       "      <th>id</th>\n",
       "      <th>ntrips</th>\n",
       "      <th>ave_fare</th>\n",
       "      <th>ave_rates</th>\n",
       "      <th>latitude</th>\n",
       "      <th>longitude</th>\n",
       "      <th>count</th>\n",
       "    </tr>\n",
       "  </thead>\n",
       "  <tbody>\n",
       "    <tr>\n",
       "      <th>2</th>\n",
       "      <td>10</td>\n",
       "      <td>2281</td>\n",
       "      <td>64.772762</td>\n",
       "      <td>1.543421</td>\n",
       "      <td>186334.649600</td>\n",
       "      <td>1.042410e+06</td>\n",
       "      <td>2456</td>\n",
       "    </tr>\n",
       "    <tr>\n",
       "      <th>48</th>\n",
       "      <td>93</td>\n",
       "      <td>1188</td>\n",
       "      <td>63.217929</td>\n",
       "      <td>2.439136</td>\n",
       "      <td>211655.923922</td>\n",
       "      <td>1.026950e+06</td>\n",
       "      <td>1314</td>\n",
       "    </tr>\n",
       "    <tr>\n",
       "      <th>107</th>\n",
       "      <td>219</td>\n",
       "      <td>526</td>\n",
       "      <td>59.616502</td>\n",
       "      <td>1.451625</td>\n",
       "      <td>180530.716903</td>\n",
       "      <td>1.047949e+06</td>\n",
       "      <td>591</td>\n",
       "    </tr>\n",
       "    <tr>\n",
       "      <th>104</th>\n",
       "      <td>215</td>\n",
       "      <td>911</td>\n",
       "      <td>59.114237</td>\n",
       "      <td>1.666467</td>\n",
       "      <td>192458.653576</td>\n",
       "      <td>1.041909e+06</td>\n",
       "      <td>963</td>\n",
       "    </tr>\n",
       "    <tr>\n",
       "      <th>63</th>\n",
       "      <td>132</td>\n",
       "      <td>214405</td>\n",
       "      <td>57.109357</td>\n",
       "      <td>1.457537</td>\n",
       "      <td>172188.817426</td>\n",
       "      <td>1.044116e+06</td>\n",
       "      <td>225492</td>\n",
       "    </tr>\n",
       "    <tr>\n",
       "      <th>10</th>\n",
       "      <td>28</td>\n",
       "      <td>699</td>\n",
       "      <td>55.062389</td>\n",
       "      <td>1.874079</td>\n",
       "      <td>198850.690235</td>\n",
       "      <td>1.037760e+06</td>\n",
       "      <td>789</td>\n",
       "    </tr>\n",
       "    <tr>\n",
       "      <th>62</th>\n",
       "      <td>130</td>\n",
       "      <td>1028</td>\n",
       "      <td>51.110467</td>\n",
       "      <td>1.619146</td>\n",
       "      <td>196611.304042</td>\n",
       "      <td>1.042327e+06</td>\n",
       "      <td>1125</td>\n",
       "    </tr>\n",
       "    <tr>\n",
       "      <th>96</th>\n",
       "      <td>194</td>\n",
       "      <td>361</td>\n",
       "      <td>49.626233</td>\n",
       "      <td>2.319618</td>\n",
       "      <td>227770.192915</td>\n",
       "      <td>1.004813e+06</td>\n",
       "      <td>487</td>\n",
       "    </tr>\n",
       "    <tr>\n",
       "      <th>78</th>\n",
       "      <td>157</td>\n",
       "      <td>481</td>\n",
       "      <td>48.082391</td>\n",
       "      <td>2.026186</td>\n",
       "      <td>202883.016136</td>\n",
       "      <td>1.010882e+06</td>\n",
       "      <td>568</td>\n",
       "    </tr>\n",
       "    <tr>\n",
       "      <th>105</th>\n",
       "      <td>216</td>\n",
       "      <td>575</td>\n",
       "      <td>45.930035</td>\n",
       "      <td>1.261024</td>\n",
       "      <td>185788.085802</td>\n",
       "      <td>1.034974e+06</td>\n",
       "      <td>1011</td>\n",
       "    </tr>\n",
       "  </tbody>\n",
       "</table>\n",
       "</div>"
      ],
      "text/plain": [
       "      id  ntrips   ave_fare  ave_rates       latitude     longitude   count\n",
       "2     10    2281  64.772762   1.543421  186334.649600  1.042410e+06    2456\n",
       "48    93    1188  63.217929   2.439136  211655.923922  1.026950e+06    1314\n",
       "107  219     526  59.616502   1.451625  180530.716903  1.047949e+06     591\n",
       "104  215     911  59.114237   1.666467  192458.653576  1.041909e+06     963\n",
       "63   132  214405  57.109357   1.457537  172188.817426  1.044116e+06  225492\n",
       "10    28     699  55.062389   1.874079  198850.690235  1.037760e+06     789\n",
       "62   130    1028  51.110467   1.619146  196611.304042  1.042327e+06    1125\n",
       "96   194     361  49.626233   2.319618  227770.192915  1.004813e+06     487\n",
       "78   157     481  48.082391   2.026186  202883.016136  1.010882e+06     568\n",
       "105  216     575  45.930035   1.261024  185788.085802  1.034974e+06    1011"
      ]
     },
     "execution_count": 11,
     "metadata": {},
     "output_type": "execute_result"
    }
   ],
   "source": [
    "top_10_fare = df_fare_loc.sort_values(by=['ave_fare'],ascending=False).head(10)\n",
    "top_10_rate = df_fare_loc.sort_values(by=['ave_rates'],ascending=False).head(10)\n",
    "\n",
    "top_10_fare"
   ]
  },
  {
   "cell_type": "code",
   "execution_count": 12,
   "metadata": {},
   "outputs": [
    {
     "data": {
      "text/html": [
       "<div>\n",
       "<style scoped>\n",
       "    .dataframe tbody tr th:only-of-type {\n",
       "        vertical-align: middle;\n",
       "    }\n",
       "\n",
       "    .dataframe tbody tr th {\n",
       "        vertical-align: top;\n",
       "    }\n",
       "\n",
       "    .dataframe thead th {\n",
       "        text-align: right;\n",
       "    }\n",
       "</style>\n",
       "<table border=\"1\" class=\"dataframe\">\n",
       "  <thead>\n",
       "    <tr style=\"text-align: right;\">\n",
       "      <th></th>\n",
       "      <th>id</th>\n",
       "      <th>ntrips</th>\n",
       "      <th>ave_fare</th>\n",
       "      <th>ave_rates</th>\n",
       "      <th>latitude</th>\n",
       "      <th>longitude</th>\n",
       "      <th>count</th>\n",
       "    </tr>\n",
       "  </thead>\n",
       "  <tbody>\n",
       "    <tr>\n",
       "      <th>48</th>\n",
       "      <td>93</td>\n",
       "      <td>1188</td>\n",
       "      <td>63.217929</td>\n",
       "      <td>2.439136</td>\n",
       "      <td>211655.923922</td>\n",
       "      <td>1.026950e+06</td>\n",
       "      <td>1314</td>\n",
       "    </tr>\n",
       "    <tr>\n",
       "      <th>96</th>\n",
       "      <td>194</td>\n",
       "      <td>361</td>\n",
       "      <td>49.626233</td>\n",
       "      <td>2.319618</td>\n",
       "      <td>227770.192915</td>\n",
       "      <td>1.004813e+06</td>\n",
       "      <td>487</td>\n",
       "    </tr>\n",
       "    <tr>\n",
       "      <th>78</th>\n",
       "      <td>157</td>\n",
       "      <td>481</td>\n",
       "      <td>48.082391</td>\n",
       "      <td>2.026186</td>\n",
       "      <td>202883.016136</td>\n",
       "      <td>1.010882e+06</td>\n",
       "      <td>568</td>\n",
       "    </tr>\n",
       "    <tr>\n",
       "      <th>10</th>\n",
       "      <td>28</td>\n",
       "      <td>699</td>\n",
       "      <td>55.062389</td>\n",
       "      <td>1.874079</td>\n",
       "      <td>198850.690235</td>\n",
       "      <td>1.037760e+06</td>\n",
       "      <td>789</td>\n",
       "    </tr>\n",
       "    <tr>\n",
       "      <th>25</th>\n",
       "      <td>56</td>\n",
       "      <td>443</td>\n",
       "      <td>45.569932</td>\n",
       "      <td>1.798930</td>\n",
       "      <td>209199.511946</td>\n",
       "      <td>1.023985e+06</td>\n",
       "      <td>497</td>\n",
       "    </tr>\n",
       "    <tr>\n",
       "      <th>73</th>\n",
       "      <td>145</td>\n",
       "      <td>4766</td>\n",
       "      <td>33.225770</td>\n",
       "      <td>1.728500</td>\n",
       "      <td>209798.376845</td>\n",
       "      <td>9.967526e+05</td>\n",
       "      <td>8715</td>\n",
       "    </tr>\n",
       "    <tr>\n",
       "      <th>104</th>\n",
       "      <td>215</td>\n",
       "      <td>911</td>\n",
       "      <td>59.114237</td>\n",
       "      <td>1.666467</td>\n",
       "      <td>192458.653576</td>\n",
       "      <td>1.041909e+06</td>\n",
       "      <td>963</td>\n",
       "    </tr>\n",
       "    <tr>\n",
       "      <th>65</th>\n",
       "      <td>134</td>\n",
       "      <td>384</td>\n",
       "      <td>38.541667</td>\n",
       "      <td>1.654077</td>\n",
       "      <td>197467.016351</td>\n",
       "      <td>1.030932e+06</td>\n",
       "      <td>610</td>\n",
       "    </tr>\n",
       "    <tr>\n",
       "      <th>62</th>\n",
       "      <td>130</td>\n",
       "      <td>1028</td>\n",
       "      <td>51.110467</td>\n",
       "      <td>1.619146</td>\n",
       "      <td>196611.304042</td>\n",
       "      <td>1.042327e+06</td>\n",
       "      <td>1125</td>\n",
       "    </tr>\n",
       "    <tr>\n",
       "      <th>32</th>\n",
       "      <td>70</td>\n",
       "      <td>4551</td>\n",
       "      <td>22.833595</td>\n",
       "      <td>1.618634</td>\n",
       "      <td>217386.379355</td>\n",
       "      <td>1.021406e+06</td>\n",
       "      <td>5012</td>\n",
       "    </tr>\n",
       "  </tbody>\n",
       "</table>\n",
       "</div>"
      ],
      "text/plain": [
       "      id  ntrips   ave_fare  ave_rates       latitude     longitude  count\n",
       "48    93    1188  63.217929   2.439136  211655.923922  1.026950e+06   1314\n",
       "96   194     361  49.626233   2.319618  227770.192915  1.004813e+06    487\n",
       "78   157     481  48.082391   2.026186  202883.016136  1.010882e+06    568\n",
       "10    28     699  55.062389   1.874079  198850.690235  1.037760e+06    789\n",
       "25    56     443  45.569932   1.798930  209199.511946  1.023985e+06    497\n",
       "73   145    4766  33.225770   1.728500  209798.376845  9.967526e+05   8715\n",
       "104  215     911  59.114237   1.666467  192458.653576  1.041909e+06    963\n",
       "65   134     384  38.541667   1.654077  197467.016351  1.030932e+06    610\n",
       "62   130    1028  51.110467   1.619146  196611.304042  1.042327e+06   1125\n",
       "32    70    4551  22.833595   1.618634  217386.379355  1.021406e+06   5012"
      ]
     },
     "execution_count": 12,
     "metadata": {},
     "output_type": "execute_result"
    }
   ],
   "source": [
    "top_10_rate"
   ]
  },
  {
   "cell_type": "code",
   "execution_count": 13,
   "metadata": {},
   "outputs": [],
   "source": [
    "df_fare_loc.to_csv('./result/fare_loc_june.csv',index=False)\n",
    "top_10_fare.to_csv('./result/fare_loc_june_topfare.csv',index=False)\n",
    "top_10_rate.to_csv('./result/fare_loc_june_toprate.csv',index=False)"
   ]
  },
  {
   "cell_type": "markdown",
   "metadata": {},
   "source": [
    "## Fare classes for prediction\n",
    "Since taxi fare is a fairly random process, it is impossible to create a good regression model. However, predicting fare inside a bounded range still provides valuable information for taxi drivers.\n",
    "\n",
    "We use percentile of the fare distribution to find proper bounded ranges"
   ]
  },
  {
   "cell_type": "code",
   "execution_count": 14,
   "metadata": {},
   "outputs": [],
   "source": [
    "def find_fare_percentile(fare_list, p):\n",
    "    l = len(fare_list)\n",
    "    i = int(p*l)\n",
    "    return fare_list[i]"
   ]
  },
  {
   "cell_type": "code",
   "execution_count": 15,
   "metadata": {},
   "outputs": [],
   "source": [
    "total_amount = df['total_amount']\n",
    "total_amount_sorted = np.sort(total_amount)\n"
   ]
  },
  {
   "cell_type": "code",
   "execution_count": 16,
   "metadata": {},
   "outputs": [
    {
     "name": "stdout",
     "output_type": "stream",
     "text": [
      "0.2 12.8\n"
     ]
    }
   ],
   "source": [
    "# find percentile for the fare distribution\n",
    "p_list = [0.2]\n",
    "for p in p_list:\n",
    "    print (p,find_fare_percentile(total_amount_sorted,p))"
   ]
  },
  {
   "cell_type": "markdown",
   "metadata": {},
   "source": [
    "### Prepare the train/test sets"
   ]
  },
  {
   "cell_type": "code",
   "execution_count": 17,
   "metadata": {},
   "outputs": [],
   "source": [
    "# four categories (0-10,10-20,20-30,30+)\n",
    "label = []\n",
    "for amount in total_amount:\n",
    "    if amount<10:\n",
    "        label.append(0)\n",
    "    elif amount<20:\n",
    "        label.append(1)\n",
    "    elif amount<30:\n",
    "        label.append(2)\n",
    "    else:\n",
    "        label.append(3)"
   ]
  },
  {
   "cell_type": "code",
   "execution_count": 18,
   "metadata": {},
   "outputs": [],
   "source": [
    "df['label'] = label\n",
    "feature_list = ['tpu_hour','PULocationID','PRCP', 'SNOW', 'TMAX', 'TMIN']"
   ]
  },
  {
   "cell_type": "code",
   "execution_count": 19,
   "metadata": {},
   "outputs": [],
   "source": [
    "X = df[feature_list].to_numpy()\n",
    "y = df['label'].to_numpy()"
   ]
  },
  {
   "cell_type": "code",
   "execution_count": 20,
   "metadata": {},
   "outputs": [],
   "source": [
    "X_train, X_test, y_train, y_test = train_test_split(X, y, test_size=0.25, random_state=42)"
   ]
  },
  {
   "cell_type": "markdown",
   "metadata": {},
   "source": [
    "### Random Forest Cls "
   ]
  },
  {
   "cell_type": "code",
   "execution_count": 21,
   "metadata": {},
   "outputs": [],
   "source": [
    "clf = RandomForestClassifier(n_estimators=100, max_depth=10,n_jobs=12,\n",
    "                             random_state=0)"
   ]
  },
  {
   "cell_type": "code",
   "execution_count": 22,
   "metadata": {},
   "outputs": [
    {
     "data": {
      "text/plain": [
       "RandomForestClassifier(bootstrap=True, class_weight=None, criterion='gini',\n",
       "                       max_depth=10, max_features='auto', max_leaf_nodes=None,\n",
       "                       min_impurity_decrease=0.0, min_impurity_split=None,\n",
       "                       min_samples_leaf=1, min_samples_split=2,\n",
       "                       min_weight_fraction_leaf=0.0, n_estimators=100,\n",
       "                       n_jobs=12, oob_score=False, random_state=0, verbose=0,\n",
       "                       warm_start=False)"
      ]
     },
     "execution_count": 22,
     "metadata": {},
     "output_type": "execute_result"
    }
   ],
   "source": [
    "clf.fit(X_train,y_train)"
   ]
  },
  {
   "cell_type": "code",
   "execution_count": 23,
   "metadata": {},
   "outputs": [],
   "source": [
    "y_pred = clf.predict(X_test)"
   ]
  },
  {
   "cell_type": "code",
   "execution_count": 24,
   "metadata": {},
   "outputs": [
    {
     "data": {
      "text/plain": [
       "0.679345310219868"
      ]
     },
     "execution_count": 24,
     "metadata": {},
     "output_type": "execute_result"
    }
   ],
   "source": [
    "accuracy_score(y_test, y_pred)"
   ]
  },
  {
   "cell_type": "code",
   "execution_count": 25,
   "metadata": {},
   "outputs": [
    {
     "data": {
      "text/plain": [
       "['./demo/rf_clf.joblib']"
      ]
     },
     "execution_count": 25,
     "metadata": {},
     "output_type": "execute_result"
    }
   ],
   "source": [
    "\n",
    "save_path = './demo/'\n",
    "dump(clf, save_path+'rf_clf.joblib')"
   ]
  },
  {
   "cell_type": "markdown",
   "metadata": {},
   "source": [
    "## K-nearest Neighbor \n",
    "Knowing a fare category is valuable, but providing the most similar historical data to the drivers may be also important as trips are rather random process. "
   ]
  },
  {
   "cell_type": "code",
   "execution_count": 26,
   "metadata": {},
   "outputs": [],
   "source": [
    "from sklearn.neighbors import NearestNeighbors\n",
    "from sklearn.neighbors import KNeighborsRegressor\n"
   ]
  },
  {
   "cell_type": "code",
   "execution_count": 27,
   "metadata": {},
   "outputs": [],
   "source": [
    "# Prepare new data set \n",
    "X = df[feature_list].to_numpy()\n",
    "y = df['total_amount'].to_numpy()\n",
    "\n",
    "X_train, X_test, y_train, y_test = train_test_split(X, y, test_size=0.25, random_state=66)"
   ]
  },
  {
   "cell_type": "code",
   "execution_count": 28,
   "metadata": {},
   "outputs": [
    {
     "data": {
      "text/plain": [
       "KNeighborsRegressor(algorithm='auto', leaf_size=30, metric='minkowski',\n",
       "                    metric_params=None, n_jobs=10, n_neighbors=5, p=2,\n",
       "                    weights='uniform')"
      ]
     },
     "execution_count": 28,
     "metadata": {},
     "output_type": "execute_result"
    }
   ],
   "source": [
    "neigh = KNeighborsRegressor(n_neighbors=5, n_jobs=10)\n",
    "neigh.fit(X_train, y_train)"
   ]
  },
  {
   "cell_type": "code",
   "execution_count": 29,
   "metadata": {},
   "outputs": [],
   "source": [
    "idcs = neigh.kneighbors(X_test,n_neighbors = 5, return_distance=False)"
   ]
  },
  {
   "cell_type": "code",
   "execution_count": 30,
   "metadata": {},
   "outputs": [],
   "source": [
    "def get_nearest_amount(data,idc):\n",
    "    return data[idc]\n",
    "    \n",
    "def compute_l1_loss(label,pred):\n",
    "    diff = abs(pred-label)\n",
    "    return diff.mean()"
   ]
  },
  {
   "cell_type": "code",
   "execution_count": 31,
   "metadata": {},
   "outputs": [],
   "source": [
    "res = get_nearest_amount(y_train,idcs)\n",
    "mean_res = np.mean(res,-1)\n",
    "median_res = np.median(res,-1)"
   ]
  },
  {
   "cell_type": "code",
   "execution_count": 32,
   "metadata": {},
   "outputs": [
    {
     "name": "stdout",
     "output_type": "stream",
     "text": [
      "median loss : 7, mean loss : 8\n"
     ]
    }
   ],
   "source": [
    "# See losses for median based prediction and mean based prediction\n",
    "median_loss = compute_l1_loss(y_test,median_res)\n",
    "mean_loss = compute_l1_loss(y_test,mean_res)\n",
    "\n",
    "print ('median loss : %d, mean loss : %d' %(median_loss,mean_loss))"
   ]
  },
  {
   "cell_type": "code",
   "execution_count": 33,
   "metadata": {},
   "outputs": [
    {
     "data": {
      "text/plain": [
       "['./demo/kn.joblib']"
      ]
     },
     "execution_count": 33,
     "metadata": {},
     "output_type": "execute_result"
    }
   ],
   "source": [
    "from joblib import dump, load\n",
    "save_path = './demo/'\n",
    "dump(clf, save_path+'kn.joblib')"
   ]
  },
  {
   "cell_type": "markdown",
   "metadata": {},
   "source": [
    "# Put things together, a taxi-driver assistant \n",
    "\n",
    "Input Features \n",
    "- 'tpu_hour', Hour of pick up \n",
    "- 'PULocationID',The pick up location \n",
    "- 'PRCP', Precipitation amount \n",
    "- 'SNOW', Snow amount \n",
    "- 'TMAX', Max temperature \n",
    "- 'TMIN', Min temperature \n",
    "\n",
    "Output Features:\n",
    "- Predicted total amount for the trip\n",
    "- 10 most similar historical records based on the input features "
   ]
  },
  {
   "cell_type": "code",
   "execution_count": 32,
   "metadata": {},
   "outputs": [],
   "source": [
    "FARE_RANGE = {\n",
    "    0:\"$ 0-10 \",\n",
    "    1:\"$ 10-20 \",\n",
    "    2:\"$ 20-30 \",\n",
    "    3:\"$ 30+ \"\n",
    "}\n",
    "def cab_assistant(input_feature,clf,neigh,y_train):\n",
    "    rf_pred = clf.predict(input_feature)[0]\n",
    "    idcs = neigh.kneighbors(input_feature,n_neighbors = 10, return_distance=False)\n",
    "    neigh_pred = get_nearest_amount(y_train,idcs)[0]\n",
    "    median_res = np.median(neigh_pred,-1)\n",
    "    \n",
    "    print ('=================================================================')\n",
    "    print ('Fare Prediction is ', FARE_RANGE[rf_pred])\n",
    "    print ('Most Similar Historical Fare Records Based on the Input: ')\n",
    "    print (neigh_pred)\n",
    "    print ('Historical Fare Records Median: ', median_res)\n",
    "    \n",
    "    "
   ]
  },
  {
   "cell_type": "markdown",
   "metadata": {},
   "source": [
    "## A sample run!"
   ]
  },
  {
   "cell_type": "code",
   "execution_count": 33,
   "metadata": {},
   "outputs": [
    {
     "name": "stdout",
     "output_type": "stream",
     "text": [
      "=================================================================\n",
      "Fare Prediction is  $ 10-20 \n",
      "Most Similar Historical Fare Records Based on the Input: \n",
      "[15.35 10.3  12.96 12.43 11.76 73.7  23.8  38.76 13.8  14.76]\n",
      "Historical Fare Records Median:  14.280000000000001\n"
     ]
    }
   ],
   "source": [
    "test_inp = X_test[0].reshape(-1,6)\n",
    "cab_assistant(test_inp,clf,neigh,y_train)"
   ]
  },
  {
   "cell_type": "code",
   "execution_count": null,
   "metadata": {},
   "outputs": [],
   "source": []
  }
 ],
 "metadata": {
  "kernelspec": {
   "display_name": "Python 3",
   "language": "python",
   "name": "python3"
  },
  "language_info": {
   "codemirror_mode": {
    "name": "ipython",
    "version": 3
   },
   "file_extension": ".py",
   "mimetype": "text/x-python",
   "name": "python",
   "nbconvert_exporter": "python",
   "pygments_lexer": "ipython3",
   "version": "3.7.3"
  }
 },
 "nbformat": 4,
 "nbformat_minor": 2
}
