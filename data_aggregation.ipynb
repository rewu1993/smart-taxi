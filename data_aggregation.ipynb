{
 "cells": [
  {
   "cell_type": "code",
   "execution_count": 1,
   "metadata": {},
   "outputs": [],
   "source": [
    "import numpy as np\n",
    "import pandas as pd"
   ]
  },
  {
   "cell_type": "code",
   "execution_count": 2,
   "metadata": {},
   "outputs": [],
   "source": [
    "weater_path = './data/weather-data/weather.csv'"
   ]
  },
  {
   "cell_type": "code",
   "execution_count": 3,
   "metadata": {},
   "outputs": [],
   "source": [
    "weater_df = pd.read_csv(weater_path)\n",
    "weater_df['DATE'] = pd.DatetimeIndex(weater_df['DATE'])"
   ]
  },
  {
   "cell_type": "markdown",
   "metadata": {},
   "source": [
    "# combine weather df with taxi df "
   ]
  },
  {
   "cell_type": "code",
   "execution_count": 4,
   "metadata": {},
   "outputs": [],
   "source": [
    "data_base_path = './data/taxi-data/'\n",
    "taxi_data_path = data_base_path+'yellow_tripdata_2019-01.csv'"
   ]
  },
  {
   "cell_type": "code",
   "execution_count": 5,
   "metadata": {},
   "outputs": [],
   "source": [
    "taxi_data = pd.read_csv(taxi_data_path)\n",
    "taxi_data['tpep_pickup_datetime'] = pd.DatetimeIndex(taxi_data['tpep_pickup_datetime'] ) \n",
    "taxi_data['tpep_dropoff_datetime']= pd.DatetimeIndex(taxi_data['tpep_dropoff_datetime'] ) \n"
   ]
  },
  {
   "cell_type": "code",
   "execution_count": 6,
   "metadata": {},
   "outputs": [],
   "source": [
    "taxi_data['DATE'] = pd.DatetimeIndex(taxi_data['tpep_pickup_datetime'].dt.date)\n",
    "taxi_data['tpu_hour'] = taxi_data['tpep_pickup_datetime'].dt.hour"
   ]
  },
  {
   "cell_type": "code",
   "execution_count": 7,
   "metadata": {},
   "outputs": [],
   "source": [
    "sum_df = pd.merge(taxi_data, weater_df, on='DATE', how='inner')"
   ]
  },
  {
   "cell_type": "code",
   "execution_count": 8,
   "metadata": {},
   "outputs": [],
   "source": [
    "sum_df['trip_time'] = sum_df['tpep_dropoff_datetime']-sum_df['tpep_pickup_datetime']\n",
    "sum_df['trip_time'] = sum_df['trip_time'].dt.total_seconds().div(60).astype(int)"
   ]
  },
  {
   "cell_type": "code",
   "execution_count": 9,
   "metadata": {},
   "outputs": [],
   "source": [
    "sum_df['rate'] =sum_df['total_amount']/sum_df['trip_time']"
   ]
  },
  {
   "cell_type": "code",
   "execution_count": 10,
   "metadata": {},
   "outputs": [],
   "source": [
    "useless_columns = ['VendorID','passenger_count', 'trip_distance', 'RatecodeID', 'store_and_fwd_flag',\n",
    "                   'payment_type', 'fare_amount', 'extra','mta_tax', 'tip_amount', 'tolls_amount', 'improvement_surcharge',\n",
    "                  'congestion_surcharge','AWND','SNWD', 'TAVG','WDF2', 'WDF5',\n",
    "       'WSF2', 'WSF5', 'WT01', 'WT02', 'WT03', 'WT06', 'WT08','STATION', 'NAME',]"
   ]
  },
  {
   "cell_type": "code",
   "execution_count": 11,
   "metadata": {},
   "outputs": [],
   "source": [
    "sum_df_clean = sum_df.drop(columns=useless_columns)"
   ]
  },
  {
   "cell_type": "code",
   "execution_count": 12,
   "metadata": {},
   "outputs": [
    {
     "data": {
      "text/html": [
       "<div>\n",
       "<style scoped>\n",
       "    .dataframe tbody tr th:only-of-type {\n",
       "        vertical-align: middle;\n",
       "    }\n",
       "\n",
       "    .dataframe tbody tr th {\n",
       "        vertical-align: top;\n",
       "    }\n",
       "\n",
       "    .dataframe thead th {\n",
       "        text-align: right;\n",
       "    }\n",
       "</style>\n",
       "<table border=\"1\" class=\"dataframe\">\n",
       "  <thead>\n",
       "    <tr style=\"text-align: right;\">\n",
       "      <th></th>\n",
       "      <th>tpep_pickup_datetime</th>\n",
       "      <th>tpep_dropoff_datetime</th>\n",
       "      <th>PULocationID</th>\n",
       "      <th>DOLocationID</th>\n",
       "      <th>total_amount</th>\n",
       "      <th>DATE</th>\n",
       "      <th>tpu_hour</th>\n",
       "      <th>PRCP</th>\n",
       "      <th>SNOW</th>\n",
       "      <th>TMAX</th>\n",
       "      <th>TMIN</th>\n",
       "      <th>trip_time</th>\n",
       "      <th>rate</th>\n",
       "    </tr>\n",
       "  </thead>\n",
       "  <tbody>\n",
       "    <tr>\n",
       "      <th>0</th>\n",
       "      <td>2019-01-01 00:46:40</td>\n",
       "      <td>2019-01-01 00:53:20</td>\n",
       "      <td>151</td>\n",
       "      <td>239</td>\n",
       "      <td>9.95</td>\n",
       "      <td>2019-01-01</td>\n",
       "      <td>0</td>\n",
       "      <td>0.06</td>\n",
       "      <td>0.0</td>\n",
       "      <td>58</td>\n",
       "      <td>39</td>\n",
       "      <td>6</td>\n",
       "      <td>1.658333</td>\n",
       "    </tr>\n",
       "    <tr>\n",
       "      <th>1</th>\n",
       "      <td>2019-01-01 00:59:47</td>\n",
       "      <td>2019-01-01 01:18:59</td>\n",
       "      <td>239</td>\n",
       "      <td>246</td>\n",
       "      <td>16.30</td>\n",
       "      <td>2019-01-01</td>\n",
       "      <td>0</td>\n",
       "      <td>0.06</td>\n",
       "      <td>0.0</td>\n",
       "      <td>58</td>\n",
       "      <td>39</td>\n",
       "      <td>19</td>\n",
       "      <td>0.857895</td>\n",
       "    </tr>\n",
       "    <tr>\n",
       "      <th>2</th>\n",
       "      <td>2019-01-01 00:21:28</td>\n",
       "      <td>2019-01-01 00:28:37</td>\n",
       "      <td>163</td>\n",
       "      <td>229</td>\n",
       "      <td>9.05</td>\n",
       "      <td>2019-01-01</td>\n",
       "      <td>0</td>\n",
       "      <td>0.06</td>\n",
       "      <td>0.0</td>\n",
       "      <td>58</td>\n",
       "      <td>39</td>\n",
       "      <td>7</td>\n",
       "      <td>1.292857</td>\n",
       "    </tr>\n",
       "    <tr>\n",
       "      <th>3</th>\n",
       "      <td>2019-01-01 00:32:01</td>\n",
       "      <td>2019-01-01 00:45:39</td>\n",
       "      <td>229</td>\n",
       "      <td>7</td>\n",
       "      <td>18.50</td>\n",
       "      <td>2019-01-01</td>\n",
       "      <td>0</td>\n",
       "      <td>0.06</td>\n",
       "      <td>0.0</td>\n",
       "      <td>58</td>\n",
       "      <td>39</td>\n",
       "      <td>13</td>\n",
       "      <td>1.423077</td>\n",
       "    </tr>\n",
       "    <tr>\n",
       "      <th>4</th>\n",
       "      <td>2019-01-01 00:57:32</td>\n",
       "      <td>2019-01-01 01:09:32</td>\n",
       "      <td>141</td>\n",
       "      <td>234</td>\n",
       "      <td>13.00</td>\n",
       "      <td>2019-01-01</td>\n",
       "      <td>0</td>\n",
       "      <td>0.06</td>\n",
       "      <td>0.0</td>\n",
       "      <td>58</td>\n",
       "      <td>39</td>\n",
       "      <td>12</td>\n",
       "      <td>1.083333</td>\n",
       "    </tr>\n",
       "  </tbody>\n",
       "</table>\n",
       "</div>"
      ],
      "text/plain": [
       "  tpep_pickup_datetime tpep_dropoff_datetime  PULocationID  DOLocationID  \\\n",
       "0  2019-01-01 00:46:40   2019-01-01 00:53:20           151           239   \n",
       "1  2019-01-01 00:59:47   2019-01-01 01:18:59           239           246   \n",
       "2  2019-01-01 00:21:28   2019-01-01 00:28:37           163           229   \n",
       "3  2019-01-01 00:32:01   2019-01-01 00:45:39           229             7   \n",
       "4  2019-01-01 00:57:32   2019-01-01 01:09:32           141           234   \n",
       "\n",
       "   total_amount       DATE  tpu_hour  PRCP  SNOW  TMAX  TMIN  trip_time  \\\n",
       "0          9.95 2019-01-01         0  0.06   0.0    58    39          6   \n",
       "1         16.30 2019-01-01         0  0.06   0.0    58    39         19   \n",
       "2          9.05 2019-01-01         0  0.06   0.0    58    39          7   \n",
       "3         18.50 2019-01-01         0  0.06   0.0    58    39         13   \n",
       "4         13.00 2019-01-01         0  0.06   0.0    58    39         12   \n",
       "\n",
       "       rate  \n",
       "0  1.658333  \n",
       "1  0.857895  \n",
       "2  1.292857  \n",
       "3  1.423077  \n",
       "4  1.083333  "
      ]
     },
     "execution_count": 12,
     "metadata": {},
     "output_type": "execute_result"
    }
   ],
   "source": [
    "sum_df_clean.head()"
   ]
  },
  {
   "cell_type": "code",
   "execution_count": 13,
   "metadata": {},
   "outputs": [],
   "source": [
    "save_path = './result/weater_taxi_jan.csv'\n",
    "sum_df_clean.to_csv(save_path)"
   ]
  },
  {
   "cell_type": "code",
   "execution_count": null,
   "metadata": {},
   "outputs": [],
   "source": []
  }
 ],
 "metadata": {
  "kernelspec": {
   "display_name": "Python 3",
   "language": "python",
   "name": "python3"
  },
  "language_info": {
   "codemirror_mode": {
    "name": "ipython",
    "version": 3
   },
   "file_extension": ".py",
   "mimetype": "text/x-python",
   "name": "python",
   "nbconvert_exporter": "python",
   "pygments_lexer": "ipython3",
   "version": "3.7.3"
  }
 },
 "nbformat": 4,
 "nbformat_minor": 2
}
